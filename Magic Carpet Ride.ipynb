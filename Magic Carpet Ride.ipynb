{
 "cells": [
  {
   "cell_type": "markdown",
   "metadata": {},
   "source": [
    "# Magic Carpet Ride\n",
    "\n",
    "### Lessons Learned\n",
    "    - Fully read the question and ensure you unerstand before coding out. Answered for the optimal start point where you end with the most magic, then once all but one test failed realised the ask was the first starting point where you could make it through. At this point a very grumpy 6 month old was late for bed and I lacked the time/focus to resolve. Save time in long run by taking the time upfront "
   ]
  },
  {
   "cell_type": "code",
   "execution_count": 6,
   "metadata": {},
   "outputs": [],
   "source": [
    "def magicCarpet(magic, dist):\n",
    "    #loop through\n",
    "    for n in range(len(magic)):\n",
    "        #set current magic\n",
    "        currentMag = magic[n]\n",
    "        #loop through\n",
    "        for i in range(len(magic)):\n",
    "            counter = 0\n",
    "            #if current magic above 0 calculate current with distnce traveled\n",
    "            if currentMag > 0:\n",
    "                #if within index then measure \n",
    "                if n+i < len(magic):\n",
    "                    currentMag = currentMag + magic[n+i] - dist[n+i]\n",
    "                #else use counter\n",
    "                else:\n",
    "                    currentMag = currentMag + magic[counter] - dist[counter]\n",
    "                    counter += 1\n",
    "            #else break\n",
    "            else:\n",
    "                break\n",
    "        #if current mag greater than 0 return n\n",
    "        if currentMag > 0:\n",
    "            return n\n",
    "    #return -1 if you've made it through w/o success\n",
    "    return -1"
   ]
  },
  {
   "cell_type": "code",
   "execution_count": 7,
   "metadata": {},
   "outputs": [
    {
     "data": {
      "text/plain": [
       "1"
      ]
     },
     "execution_count": 7,
     "metadata": {},
     "output_type": "execute_result"
    }
   ],
   "source": [
    "magicCarpet([1, 10, 3, 5], [2,3,4,5])"
   ]
  },
  {
   "cell_type": "code",
   "execution_count": 10,
   "metadata": {},
   "outputs": [
    {
     "data": {
      "text/plain": [
       "-1"
      ]
     },
     "execution_count": 10,
     "metadata": {},
     "output_type": "execute_result"
    }
   ],
   "source": [
    "magicCarpet([1, 1, 2, 1], [2,3,4,5])"
   ]
  },
  {
   "cell_type": "code",
   "execution_count": null,
   "metadata": {},
   "outputs": [],
   "source": []
  }
 ],
 "metadata": {
  "kernelspec": {
   "display_name": "Python 3",
   "language": "python",
   "name": "python3"
  },
  "language_info": {
   "codemirror_mode": {
    "name": "ipython",
    "version": 3
   },
   "file_extension": ".py",
   "mimetype": "text/x-python",
   "name": "python",
   "nbconvert_exporter": "python",
   "pygments_lexer": "ipython3",
   "version": "3.7.6"
  }
 },
 "nbformat": 4,
 "nbformat_minor": 4
}
